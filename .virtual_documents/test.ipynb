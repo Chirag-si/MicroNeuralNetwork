from Value import *  
from neuralnetwork import MLP 
from visualisation import * 


x=[2.0, 3.0, -1.0] #3-dimensional input
n=MLP(3,[4,4,1]) #1st layer takes 3 input, 2 layers of 4 neuron each and 1 output


draw_dot(n(x)) #initial neural network


xs=[
    [2.0, 3.0, -1.0],
    [3.0, -1.0, 0.5],
    [0.5, 1.0, 1.0],
    [1.0, 1.0, -1.0]
]    #3d input

ys=[1.0, -1.0, -1.0, 1.0] #ground truth




for k in range(20):
    yhat=[n(x) for x in xs] #predicting
    loss=[(yout-ygt)**2 for yout, ygt in zip(ys, yhat)] #caluclating loss
    loss=sum(loss) 
    
    for p in n.parameters(): #before backward pass making sure that all gradients are set to 0
        p.grad=0
        
    loss.backward() #backward pass

    for p in n.parameters(): 
        p.data+= -0.05*p.grad #nudging all gradient by 0.05 

    print(k, loss.data)



yhat #final prediction 


draw_dot(n(x)) #final neural network



